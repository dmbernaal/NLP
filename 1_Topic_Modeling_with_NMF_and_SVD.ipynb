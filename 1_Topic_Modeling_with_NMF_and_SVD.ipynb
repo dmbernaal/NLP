{
 "cells": [
  {
   "cell_type": "markdown",
   "metadata": {},
   "source": [
    "# Topic modeling with NMF and SVD\n",
    "Topic Modeling is an unsupervised learning approach to figure out what is the best title for your document. Or Add title for ad copy, etc. \n",
    "\n",
    "The idea of matrix decompensition is taking one matrix and representing it as a few matrices. So example: Multiplying (matrix product) of these newly formed matrix will represent the original matrix. \n",
    "\n",
    "Example: We can decompose one large matrix into one tall thin matrix times one wide short matrix (possibly with a diagonal matrix in between). \n",
    "\n",
    "An example of this is called *latent semantic analysis (LSA)*. \n",
    "\n",
    "## Motivation \n",
    "Consider the most extreme case - reconstructing the matrix using an outer product of two vectors. Clearly, in most cases we won't be able to reconstruct the matrix exactly. But if we had one vector with the relative frequency of each vocabulary word out of the total word count, and one with the average number of words per document, then that outer product would be as close as we can get. \n",
    "\n",
    "Now consider increasing that matrices to two columns and two rows. The optimal decomposition would now be to cluster documents into two groups, each of which has as different distribution of words as possible to each other, but as similar as possible amongst the documents in the cluster. \n",
    "\n",
    "We will call those two groups \"Topics\". And we would cluster the words into two groups, based on those which most frequently appear in each of the topics. \n",
    "\n",
    "## Getting started\n",
    "We'll take a dataset of documents in several different categories, and find topics (consisting of groups of words) for them. Knowing the actual categoies helps us evaluate if the topic we find make sense. \n",
    "\n",
    "We will try this with two matrix factorizations: **Singular Value Decomposition (SVD)** and **Non-Negative Matrix Factorization**. \n",
    "\n",
    "### Singular Value Decomposition\n",
    "$$ A_{[m x n]} = U_{[m x n]} \\sum_{[r x r]}(V_{[n x r]})^T$$\n",
    "\n",
    "In which case $A$ in the **input data matrix** of size (m x n) where $m$ can be documents and $n$ can be terms. Therefor $m$ represents the rows and $n$ represents the columns in the matrix. \n",
    "\n",
    "So with **SVD** we take this initial input data matrix and we represent it as a *product* of three matrices. \n",
    "\n",
    "Therefor $U$ is the **left singular vectors** of shape (m x r) that is this matrix stores *left singular vectors* which can be represented as $m$ documents and $r$ concepts. \n",
    "\n",
    "our matrix $\\sum$ is called the **Singular values** matrix where: \n",
    "* r x r diagonal matrix (strenght of each 'concept')\n",
    "    * Contains zeros everywhere except diagonal which are singular values. These singular values are sorted in decreasing order. \n",
    "* r: rank of Matrix **A**\n",
    "\n",
    "Lastly we have $V$ which is called the **Right singular vectors**. The size of this matrix is (n x r) where $n$ represents terms and $r$ represents concepts. We also **transpose** this vector.\n",
    "\n",
    "#### SVD Properties\n",
    "It is always possible to decompose a real Matrix $A$ into $A = U \\sum V^T$ where:\n",
    "* $U, \\sum, V$: are unique\n",
    "* $U, V$: column orthonormal\n",
    "* $\\sum$: Diagonal\n",
    "    * Entries (Singular values) are positive and sorted in decreasing order\n",
    "    \n",
    "What is essentially happening with **SVD** is that we are able to **cluster** what a matrix represents via \"Concepts\" which are the right and left singular vectors with the singular values acting as weights or strength towards the concepts learned. \n",
    "\n",
    "These concepts aren't given to the model - they are simply learned via preference. \n",
    "\n",
    "### Non-Negative Matrix Factorization (NMF)\n",
    "For a matrix $V$ of dimensions (m x n) where each element $v_{ij} \\ge 0$, NMF decomposes it into two matrices $W$ and $H$ of dimensions (m x r) and (r x n) respectively, where each element $w_{ij} \\ge 0$ and $h_{ij} \\ge 0$ and $r < min(m,n)$\n",
    "\n",
    "such that: \n",
    "\n",
    "$$W * H = V$$\n",
    "\n",
    "The problem cannot be solved analytically so it is generally approximated numerically. \n",
    "\n",
    "$W, H$ are lower dimensional representations (latent space) of matrix $V$\n",
    "\n",
    "* So $V$ is decomposed into a tall, skinny matrix $W$ and a short, wide matrix $H$\n",
    "* The user can specify $r$, the inner dimension of $W$ and $H$, as long as it is $r < min(m,n)$\n",
    "* We see that each column of $V$, $v_i$, can be calcualted as:\n",
    "$$v_i = W * h_i$$\n",
    "* That is, each column of $V$ is equal to the sum of each column of $W$ after being weighted by its corresponding row $h_j$\n",
    "\n",
    "NMF is a way of reducing the dimensionality of our data into a **linear combination of bases**. "
   ]
  },
  {
   "cell_type": "code",
   "execution_count": 5,
   "metadata": {},
   "outputs": [],
   "source": [
    "import numpy as np\n",
    "from sklearn.datasets import fetch_20newsgroups\n",
    "from sklearn import decomposition\n",
    "from scipy import linalg\n",
    "import matplotlib.pyplot as plt"
   ]
  },
  {
   "cell_type": "code",
   "execution_count": 6,
   "metadata": {},
   "outputs": [],
   "source": [
    "%matplotlib inline\n",
    "np.set_printoptions(suppress=True)"
   ]
  },
  {
   "cell_type": "code",
   "execution_count": 7,
   "metadata": {},
   "outputs": [],
   "source": [
    "# We will pick a few topics from our entire dataset\n",
    "categories = ['alt.atheism', 'talk.religion.misc', 'comp.graphics', 'sci.space']\n",
    "remove = ('headers', 'footers', 'quotes') # for each document\n",
    "\n",
    "# Creating train and test datasets\n",
    "newsgroups_train = fetch_20newsgroups(subset='train', categories=categories, remove=remove)\n",
    "newsgroups_test = fetch_20newsgroups(subset='test', categories=categories, remove=remove)"
   ]
  },
  {
   "cell_type": "code",
   "execution_count": 8,
   "metadata": {},
   "outputs": [
    {
     "data": {
      "text/plain": [
       "((2034,), (1353,))"
      ]
     },
     "execution_count": 8,
     "metadata": {},
     "output_type": "execute_result"
    }
   ],
   "source": [
    "# printing the shape of our datasets\n",
    "newsgroups_train.filenames.shape, newsgroups_test.filenames.shape"
   ]
  },
  {
   "cell_type": "code",
   "execution_count": 9,
   "metadata": {},
   "outputs": [
    {
     "name": "stdout",
     "output_type": "stream",
     "text": [
      "Hi,\n",
      "\n",
      "I've noticed that if you only save a model (with all your mapping planes\n",
      "positioned carefully) to a .3DS file that when you reload it after restarting\n",
      "3DS, they are given a default position and orientation.  But if you save\n",
      "to a .PRJ file their positions/orientation are preserved.  Does anyone\n",
      "know why this information is not stored in the .3DS file?  Nothing is\n",
      "explicitly said in the manual about saving texture rules in the .PRJ file. \n",
      "I'd like to be able to read the texture rule information, does anyone have \n",
      "the format for the .PRJ file?\n",
      "\n",
      "Is the .CEL file format available from somewhere?\n",
      "\n",
      "Rych\n",
      "\n",
      "\n",
      "Seems to be, barring evidence to the contrary, that Koresh was simply\n",
      "another deranged fanatic who thought it neccessary to take a whole bunch of\n",
      "folks with him, children and all, to satisfy his delusional mania. Jim\n",
      "Jones, circa 1993.\n",
      "\n",
      "\n",
      "Nope - fruitcakes like Koresh have been demonstrating such evil corruption\n",
      "for centuries.\n",
      "\n",
      " >In article <1993Apr19.020359.26996@sq.sq.com>, msb@sq.sq.com (Mark Brader) \n",
      "\n",
      "MB>                                                             So the\n",
      "MB> 1970 figure seems unlikely to actually be anything but a perijove.\n",
      "\n",
      "JG>Sorry, _perijoves_...I'm not used to talking this language.\n",
      "\n",
      "Couldn't we just say periapsis or apoapsis?\n",
      "\n",
      " \n"
     ]
    }
   ],
   "source": [
    "# Showing one message\n",
    "print('\\n'.join(newsgroups_train.data[:3]))"
   ]
  },
  {
   "cell_type": "code",
   "execution_count": 10,
   "metadata": {},
   "outputs": [
    {
     "data": {
      "text/plain": [
       "array(['comp.graphics', 'talk.religion.misc', 'sci.space'], dtype='<U18')"
      ]
     },
     "execution_count": 10,
     "metadata": {},
     "output_type": "execute_result"
    }
   ],
   "source": [
    "# What are the targets for the top three?\n",
    "np.array(newsgroups_train.target_names)[newsgroups_train.target[:3]]"
   ]
  },
  {
   "cell_type": "code",
   "execution_count": 11,
   "metadata": {},
   "outputs": [
    {
     "data": {
      "text/plain": [
       "array([1, 3, 2, 0, 2, 0, 2, 1, 2, 1])"
      ]
     },
     "execution_count": 11,
     "metadata": {},
     "output_type": "execute_result"
    }
   ],
   "source": [
    "# The target attribute is the integer index of the category\n",
    "newsgroups_train.target[:10]"
   ]
  },
  {
   "cell_type": "markdown",
   "metadata": {},
   "source": [
    "In most 'cluster analysis' task we have to choose how many 'topics' or 'concepts' we want to create. We will represent this as ```num_topics, num_top_words```"
   ]
  },
  {
   "cell_type": "code",
   "execution_count": 12,
   "metadata": {},
   "outputs": [],
   "source": [
    "# This can be treated as a parameter to experiment with\n",
    "num_topics, num_top_words = 6, 8"
   ]
  },
  {
   "cell_type": "markdown",
   "metadata": {},
   "source": [
    "### Stop Words\n",
    "Some extreme common words which would appear to be of little value in helping select documents matching a user need are excluded from the vocabulary entirely. These words are called **stop words**. \n",
    "\n",
    "Generally stop words aren't used any more but we will do so in this case because we are using a small dataset and a simple model. "
   ]
  },
  {
   "cell_type": "code",
   "execution_count": 13,
   "metadata": {},
   "outputs": [
    {
     "data": {
      "text/plain": [
       "['a',\n",
       " 'about',\n",
       " 'above',\n",
       " 'across',\n",
       " 'after',\n",
       " 'afterwards',\n",
       " 'again',\n",
       " 'against',\n",
       " 'all',\n",
       " 'almost',\n",
       " 'alone',\n",
       " 'along',\n",
       " 'already',\n",
       " 'also',\n",
       " 'although',\n",
       " 'always',\n",
       " 'am',\n",
       " 'among',\n",
       " 'amongst',\n",
       " 'amoungst']"
      ]
     },
     "execution_count": 13,
     "metadata": {},
     "output_type": "execute_result"
    }
   ],
   "source": [
    "# importing stop words\n",
    "from sklearn.feature_extraction import stop_words\n",
    "\n",
    "sorted(list(stop_words.ENGLISH_STOP_WORDS))[:20]"
   ]
  },
  {
   "cell_type": "markdown",
   "metadata": {},
   "source": [
    "### Stemming and Lemmatization\n",
    "Are the words below the same? \n",
    "\n",
    "*organize, organizes, organizing* \n",
    "\n",
    "*democracy, democratic, democratization*\n",
    "\n",
    "Stemming and Lemmatization both generate the root form of the words. \n",
    "\n",
    "Lemmatization uses the rules about a language. The resulting tokens are all actual words.\n",
    "\n",
    "Stemming is the poor-mans's lemmatization. Stemming is a crude heuristic that chops the end off of the word. The resulting token may not be actual words. Stemming is faster."
   ]
  },
  {
   "cell_type": "code",
   "execution_count": 14,
   "metadata": {},
   "outputs": [
    {
     "name": "stdout",
     "output_type": "stream",
     "text": [
      "[nltk_data] Downloading package wordnet to /Users/diegomedina-\n",
      "[nltk_data]     bernal/nltk_data...\n",
      "[nltk_data]   Package wordnet is already up-to-date!\n"
     ]
    },
    {
     "data": {
      "text/plain": [
       "True"
      ]
     },
     "execution_count": 14,
     "metadata": {},
     "output_type": "execute_result"
    }
   ],
   "source": [
    "import nltk\n",
    "from nltk import stem\n",
    "\n",
    "nltk.download('wordnet')"
   ]
  },
  {
   "cell_type": "code",
   "execution_count": 15,
   "metadata": {},
   "outputs": [],
   "source": [
    "# Lemmatizer, Stemmer\n",
    "wnl = stem.WordNetLemmatizer()\n",
    "porter = stem.porter.PorterStemmer()"
   ]
  },
  {
   "cell_type": "code",
   "execution_count": 16,
   "metadata": {},
   "outputs": [],
   "source": [
    "# Testing word list\n",
    "word_list = ['feet', 'foot', 'foots', 'footing']"
   ]
  },
  {
   "cell_type": "code",
   "execution_count": 17,
   "metadata": {},
   "outputs": [
    {
     "name": "stdout",
     "output_type": "stream",
     "text": [
      "['foot', 'foot', 'foot', 'footing']\n",
      "['feet', 'foot', 'foot', 'foot']\n"
     ]
    }
   ],
   "source": [
    "print([wnl.lemmatize(word) for word in word_list]) # lemmatization\n",
    "print([porter.stem(word) for word in word_list]) # stemming"
   ]
  },
  {
   "cell_type": "code",
   "execution_count": 18,
   "metadata": {},
   "outputs": [
    {
     "name": "stdout",
     "output_type": "stream",
     "text": [
      "-----------------------------------------------------------------\n",
      "Original List of word: ['fly', 'flies', 'flying']\n",
      "Lemmativation of word list: ['fly', 'fly', 'flying']\n",
      "Stemming of word list: ['fli', 'fli', 'fli']\n",
      "-----------------------------------------------------------------\n",
      "-----------------------------------------------------------------\n",
      "Original List of word: ['organize', 'organizes', 'organizing']\n",
      "Lemmativation of word list: ['organize', 'organizes', 'organizing']\n",
      "Stemming of word list: ['organ', 'organ', 'organ']\n",
      "-----------------------------------------------------------------\n",
      "-----------------------------------------------------------------\n",
      "Original List of word: ['universe', 'university']\n",
      "Lemmativation of word list: ['universe', 'university']\n",
      "Stemming of word list: ['univers', 'univers']\n",
      "-----------------------------------------------------------------\n"
     ]
    }
   ],
   "source": [
    "# Trying more words\n",
    "def stem_lemm(word_list):\n",
    "    print('-----------------------------------------------------------------')\n",
    "    print(f'Original List of word: {word_list}')\n",
    "    print(f'Lemmativation of word list: {[wnl.lemmatize(word) for word in word_list]}')\n",
    "    print(f'Stemming of word list: {[porter.stem(word) for word in word_list]}')\n",
    "    print('-----------------------------------------------------------------')\n",
    "    \n",
    "# Word lists \n",
    "list_one = ['fly', 'flies', 'flying']\n",
    "list_two = ['organize', 'organizes', 'organizing']\n",
    "list_three = ['universe', 'university']\n",
    "\n",
    "# calling stem_lemm\n",
    "stem_lemm(list_one)\n",
    "stem_lemm(list_two)\n",
    "stem_lemm(list_three)"
   ]
  },
  {
   "cell_type": "markdown",
   "metadata": {},
   "source": [
    "### When to use?\n",
    "When to use Stop Words? Lemmanization? Stemming? \n",
    "\n",
    "Using these methods are a way of throwing away information and truly depeneds on the model you use. If you model allows for more complexity - such as utilizing a deep learning model - then it would be best not to use these. \n",
    "\n",
    "As they can hurt your performance if using deep learning.\n",
    "\n",
    "Therefore the convention is to use them for smaller models - which is often the case when you are dealing with much smaller datasets (unless you use transfer learning). "
   ]
  },
  {
   "cell_type": "markdown",
   "metadata": {},
   "source": [
    "## Data Processing\n",
    "Next, SciKit Learn has a method that will extract all the word counts for us."
   ]
  },
  {
   "cell_type": "code",
   "execution_count": 19,
   "metadata": {},
   "outputs": [],
   "source": [
    "from sklearn.feature_extraction.text import CountVectorizer, TfidfVectorizer"
   ]
  },
  {
   "cell_type": "code",
   "execution_count": 20,
   "metadata": {},
   "outputs": [],
   "source": [
    "# instantiating\n",
    "vectorizer = CountVectorizer(stop_words='english') # removes stop words by default"
   ]
  },
  {
   "cell_type": "code",
   "execution_count": 21,
   "metadata": {},
   "outputs": [
    {
     "data": {
      "text/plain": [
       "(2034, 26576)"
      ]
     },
     "execution_count": 21,
     "metadata": {},
     "output_type": "execute_result"
    }
   ],
   "source": [
    "# creating vector from our train data\n",
    "vectors = vectorizer.fit_transform(newsgroups_train.data).todense()\n",
    "\n",
    "# checking the shape\n",
    "vectors.shape"
   ]
  },
  {
   "cell_type": "markdown",
   "metadata": {},
   "source": [
    "above our shape of the vector is (2034, 26576). We can view this as: 2034 different postings (rows), 26576 tokens/words (columns)"
   ]
  },
  {
   "cell_type": "code",
   "execution_count": 22,
   "metadata": {},
   "outputs": [
    {
     "data": {
      "text/plain": [
       "(26576,)"
      ]
     },
     "execution_count": 22,
     "metadata": {},
     "output_type": "execute_result"
    }
   ],
   "source": [
    "# to support this: let's check the size of our vocab from the vector\n",
    "vocab = np.array(vectorizer.get_feature_names())\n",
    "\n",
    "vocab.shape"
   ]
  },
  {
   "cell_type": "code",
   "execution_count": 23,
   "metadata": {},
   "outputs": [
    {
     "data": {
      "text/plain": [
       "array(['cosmonauts', 'cosmos', 'cosponsored', 'cost', 'costa', 'costar',\n",
       "       'costing', 'costly', 'costruction', 'costs', 'cosy', 'cote',\n",
       "       'couched', 'couldn', 'council', 'councils', 'counsel',\n",
       "       'counselees', 'counselor', 'count'], dtype='<U80')"
      ]
     },
     "execution_count": 23,
     "metadata": {},
     "output_type": "execute_result"
    }
   ],
   "source": [
    "vocab[7000:7020]"
   ]
  },
  {
   "cell_type": "markdown",
   "metadata": {},
   "source": [
    "### More on SVD\n",
    "We would clearly expect that words that appear most frequently in one topic appear less frequently in the other - otherwise that word wouldn't make a good choice to seperate out the two topics. Therefore, we expect the topics to be **orthogonal**. \n",
    "\n",
    "The SVD algorithm factorizes a matrix into one matrix with **orthogonal columns** and one with **orthogonal rows** (along with a diagonal matrix, which contains the **relative importance** of each factor). \n",
    "\n",
    "#### Orthogonal Matrix\n",
    "An orthogonal matrix is a *square matrix* whose columns and rows are *orthogonal unit vectors* \n",
    "$$Q^TQ = QQ^T = I$$\n",
    "\n",
    "Where $I$ iss the identity matrix. \n",
    "\n",
    "This leads to the equibalent characterization: a matrix Q is orthogonal if its *transpose* is equal to its *inverse*\n",
    "\n",
    "$$Q^T = Q^{-1}$$\n",
    "\n",
    "SVD is an **exact decomposition**, since the matrices it creates are big enough to fully cover the original matrix. SVD is extremely widely used in linear algebra, and specifically in data science including: \n",
    "* Semantic analysis\n",
    "* Collaborative Filterting/Recommendation\n",
    "* Calculate Moore-Penrose pseudoinverse\n",
    "* Data compression\n",
    "* Principal componenet analysis\n",
    "\n",
    "Latent Semantic Analysis (LSA) uses SVD. You will sometimes hear topic modelling reffered to as LSA."
   ]
  },
  {
   "cell_type": "code",
   "execution_count": 24,
   "metadata": {},
   "outputs": [
    {
     "name": "stdout",
     "output_type": "stream",
     "text": [
      "CPU times: user 1min 20s, sys: 3.24 s, total: 1min 23s\n",
      "Wall time: 22.1 s\n"
     ]
    }
   ],
   "source": [
    "# vectors: Input Matrix\n",
    "# U: matrix\n",
    "# s: singular values \n",
    "# Vh: matrix\n",
    "%time U, s, Vh = linalg.svd(vectors, full_matrices=False)"
   ]
  },
  {
   "cell_type": "code",
   "execution_count": 25,
   "metadata": {},
   "outputs": [
    {
     "name": "stdout",
     "output_type": "stream",
     "text": [
      "(2034, 2034) (2034,) (2034, 26576)\n"
     ]
    }
   ],
   "source": [
    "print(U.shape, s.shape, Vh.shape)"
   ]
  },
  {
   "cell_type": "code",
   "execution_count": 26,
   "metadata": {},
   "outputs": [
    {
     "data": {
      "text/plain": [
       "array([433.92698542, 291.51012741, 240.71137677, 220.00048043])"
      ]
     },
     "execution_count": 26,
     "metadata": {},
     "output_type": "execute_result"
    }
   ],
   "source": [
    "s[:4]"
   ]
  },
  {
   "cell_type": "code",
   "execution_count": 27,
   "metadata": {},
   "outputs": [
    {
     "data": {
      "text/plain": [
       "array([[433.92698542,   0.        ,   0.        ,   0.        ],\n",
       "       [  0.        , 291.51012741,   0.        ,   0.        ],\n",
       "       [  0.        ,   0.        , 240.71137677,   0.        ],\n",
       "       [  0.        ,   0.        ,   0.        , 220.00048043]])"
      ]
     },
     "execution_count": 27,
     "metadata": {},
     "output_type": "execute_result"
    }
   ],
   "source": [
    "# s is shown as a vector but we can use np.diag() to create our diagonal matrix\n",
    "np.diag(s[:4])"
   ]
  },
  {
   "cell_type": "code",
   "execution_count": 28,
   "metadata": {},
   "outputs": [
    {
     "data": {
      "text/plain": [
       "[<matplotlib.lines.Line2D at 0x109066dd8>]"
      ]
     },
     "execution_count": 28,
     "metadata": {},
     "output_type": "execute_result"
    },
    {
     "data": {
      "image/png": "[encoded data removed]",
      "text/plain": [
       "<Figure size 432x288 with 1 Axes>"
      ]
     },
     "metadata": {
      "needs_background": "light"
     },
     "output_type": "display_data"
    }
   ],
   "source": [
    "# Plotting our singular values\n",
    "plt.plot(s)"
   ]
  },
  {
   "cell_type": "code",
   "execution_count": 29,
   "metadata": {},
   "outputs": [],
   "source": [
    "# Let's show topics from SVD - Concepts we learned\n",
    "num_top_words  = 8 # How many words to show\n",
    "\n",
    "def show_topics(a):\n",
    "    top_words = lambda t: [vocab[i] for i in np.argsort(t)[:-num_top_words-1:-1]]\n",
    "    topic_words = ([top_words(t)for t in a])\n",
    "    return [' '.join(t) for t in topic_words]"
   ]
  },
  {
   "cell_type": "code",
   "execution_count": 30,
   "metadata": {},
   "outputs": [
    {
     "data": {
      "text/plain": [
       "['critus ditto propagandist surname galacticentric kindergarten surreal imaginative',\n",
       " 'jpeg gif file color quality image jfif format',\n",
       " 'graphics edu pub mail 128 3d ray ftp',\n",
       " 'jesus god matthew people atheists atheism does graphics',\n",
       " 'image data processing analysis software available tools display',\n",
       " 'god atheists atheism religious believe religion argument true',\n",
       " 'space nasa lunar mars probe moon missions probes',\n",
       " 'image probe surface lunar mars probes moon orbit',\n",
       " 'argument fallacy conclusion example true ad argumentum premises',\n",
       " 'space larson image theory universe physical nasa material']"
      ]
     },
     "execution_count": 30,
     "metadata": {},
     "output_type": "execute_result"
    }
   ],
   "source": [
    "show_topics(Vh[:10])"
   ]
  },
  {
   "cell_type": "markdown",
   "metadata": {},
   "source": [
    "If there is still confusion from seeing the above. What we have essentially done is the following: We gathered 2000 documents from (4) pre-determined topics. From each document we gathered all of the vocab and then created a large matrix (vectors) of size (m, n) where m represents the document and n represents the word with each element within the matrix representing how many times (frequency) that single word appeared in the document. \n",
    "\n",
    "Then with doing SVD - we model our 'concepts' and it does this simply by knowing the different documents and all the words within the docouments (freq). \n",
    "\n",
    "So show_topics returns a list of vocabularly (num of words) with each element representing a different cluster or 'concept' \n",
    "\n",
    "Therefor if you read the second element: 'jpeg gif file color quality image jfif format' - we know from our knowledge of the original database that this unsupervised learning task has learned these words fall into a similar topic. \n",
    "\n",
    "The model doesn't know this topic is 'graphics' but we do. "
   ]
  },
  {
   "cell_type": "markdown",
   "metadata": {},
   "source": [
    "## Non-Negative Matrix Factorization (NMF)\n",
    "Rather than constraining our factors to be *orthogonal*, another idea would be to constrain them to be non-negative. NMF is a factorization of a non-negative data set: $V$: \n",
    "\n",
    "$$V = W H$$\n",
    "\n",
    "Into non-negative matrices $W, H$. Often positive factors will be **more easily iterpretable**. (how do you explain a negative value? - problem with SVD).\n",
    "\n",
    "So if $V$ was vectorized images. Then this can be represented as $W$ being facial features times $H$ as the importance of features in each image. "
   ]
  },
  {
   "cell_type": "code",
   "execution_count": 39,
   "metadata": {},
   "outputs": [
    {
     "data": {
      "text/plain": [
       "(2034, 26576)"
      ]
     },
     "execution_count": 39,
     "metadata": {},
     "output_type": "execute_result"
    }
   ],
   "source": [
    "vectors.shape"
   ]
  },
  {
   "cell_type": "code",
   "execution_count": 40,
   "metadata": {},
   "outputs": [],
   "source": [
    "m, n = vectors.shape\n",
    "d = 5 # number of topics / concepts we want to learn "
   ]
  },
  {
   "cell_type": "code",
   "execution_count": 42,
   "metadata": {},
   "outputs": [],
   "source": [
    "clf = decomposition.NMF(n_components=d, random_state=1)\n",
    "\n",
    "W1 = clf.fit_transform(vectors) # Matrix one \n",
    "H1 = clf.components_            # Matrix two"
   ]
  },
  {
   "cell_type": "code",
   "execution_count": 43,
   "metadata": {},
   "outputs": [
    {
     "data": {
      "text/plain": [
       "['jpeg image gif file color images format quality',\n",
       " 'edu graphics pub mail 128 ray ftp send',\n",
       " 'space launch satellite nasa commercial satellites year market',\n",
       " 'jesus god people matthew atheists does atheism said',\n",
       " 'image data available software processing ftp edu analysis']"
      ]
     },
     "execution_count": 43,
     "metadata": {},
     "output_type": "execute_result"
    }
   ],
   "source": [
    "# Showing our topics learned - 5\n",
    "show_topics(H1)"
   ]
  },
  {
   "cell_type": "markdown",
   "metadata": {},
   "source": [
    "If you're having confusion as to what is happening above. Remember ```vectors``` is simply a matrix of size (m,n) where ```m``` represents document and ```n``` represents the word in that document. \n",
    "\n",
    "Therefor each element is the frequency of that word in that specific document. \n",
    "\n",
    "```d``` is the number of topics/concepts we want to learn. \n",
    "\n",
    "```W1``` is the first decomposed matrix of size (m, r) where ```m``` is the document and ```r``` is the concept. In our case ```r``` = ```d``` so this matrix is learning 5 concepts or \"topics\". \n",
    "\n",
    "```H1``` is the second decomposed matrix of size (r, n) where ```r``` is the \"topic\" or concept to learn, while ```n``` is the word. \n",
    "\n",
    "So below lets check the dimensions to further weigh our intuition. "
   ]
  },
  {
   "cell_type": "code",
   "execution_count": 45,
   "metadata": {},
   "outputs": [
    {
     "name": "stdout",
     "output_type": "stream",
     "text": [
      "W1: (2034, 5)\n",
      "H1: (5, 26576)\n"
     ]
    }
   ],
   "source": [
    "print(f'W1: {W1.shape}')\n",
    "print(f'H1: {H1.shape}')"
   ]
  },
  {
   "cell_type": "markdown",
   "metadata": {},
   "source": [
    "So with ```show_topics(a)``` we are essentially displaying words that fall into the \"topic\" or concept learned. "
   ]
  },
  {
   "cell_type": "markdown",
   "metadata": {},
   "source": [
    "## Truncated SVD\n",
    "We saved a lot of time when we calculated NMF by only calculating the subset of columns we were interested in. Is there a way to get this benefit with SVD? \n",
    "\n",
    "This is what Truncated SVD does: We are just interested in the vectors corresponding to the **largest** singular values. \n",
    "\n",
    "### Shortcomings of classical algorithms for decompisition\n",
    "* Matrices are \"Stupendously big\" \n",
    "* Data are often **missing or inaccurate**. Why spend extra computational resources when imprecision of input limits precision of the output?\n",
    "* **data transfer** now plays a major role in time of algorithms. Techniques that require fewer passes over the data may be substantially faster, even if they require more flops (Flops = floating point operations)\n",
    "\n",
    "### Advantages of randomized algorithms\n",
    "* Inherently stable\n",
    "* Performance guarantees do not depend on subtle spectral properties\n",
    "* Needed matrix-vector products can be done in parallel"
   ]
  },
  {
   "cell_type": "code",
   "execution_count": null,
   "metadata": {},
   "outputs": [],
   "source": []
  },
  {
   "cell_type": "code",
   "execution_count": null,
   "metadata": {},
   "outputs": [],
   "source": []
  },
  {
   "cell_type": "code",
   "execution_count": null,
   "metadata": {},
   "outputs": [],
   "source": []
  },
  {
   "cell_type": "code",
   "execution_count": null,
   "metadata": {},
   "outputs": [],
   "source": []
  },
  {
   "cell_type": "code",
   "execution_count": null,
   "metadata": {},
   "outputs": [],
   "source": []
  },
  {
   "cell_type": "code",
   "execution_count": null,
   "metadata": {},
   "outputs": [],
   "source": []
  }
 ],
 "metadata": {
  "kernelspec": {
   "display_name": "Python 3",
   "language": "python",
   "name": "python3"
  },
  "language_info": {
   "codemirror_mode": {
    "name": "ipython",
    "version": 3
   },
   "file_extension": ".py",
   "mimetype": "text/x-python",
   "name": "python",
   "nbconvert_exporter": "python",
   "pygments_lexer": "ipython3",
   "version": "3.6.8"
  }
 },
 "nbformat": 4,
 "nbformat_minor": 2
}
